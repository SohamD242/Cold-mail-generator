{
 "cells": [
  {
   "cell_type": "code",
   "execution_count": null,
   "metadata": {},
   "outputs": [
    {
     "name": "stdout",
     "output_type": "stream",
     "text": [
      "Rakesh Sharma. He became the first Indian citizen to journey into outer space on April 3, 1984.\n"
     ]
    }
   ],
   "source": [
    "from langchain_groq import ChatGroq\n",
    "\n",
    "llm = ChatGroq(\n",
    "    model=\"llama-3.1-70b-versatile\",\n",
    "    temperature=0,\n",
    "    groq_api_key=\"your_api_key\"\n",
    ")\n",
    "response=llm.invoke(\"The first Indian to visit Space was...\")\n",
    "print(response.content)"
   ]
  },
  {
   "cell_type": "code",
   "execution_count": null,
   "metadata": {},
   "outputs": [],
   "source": [
    "from langchain_community.document_loaders import WebBaseLoader\n",
    "\n",
    "loader=WebBaseLoader(\"https://careers.ey.com/ey/job/Bengaluru-AIML-Senior-KA-560016/1143063101/\")\n",
    "page_data=loader.load().pop().page_content\n",
    "print(page_data)"
   ]
  },
  {
   "cell_type": "code",
   "execution_count": null,
   "metadata": {},
   "outputs": [],
   "source": [
    "from langchain_core.prompts import PromptTemplate\n",
    "prompt_extract=PromptTemplate.from_template(\n",
    "    '''\n",
    "    ### SCRAPE TEXT FROM WEBSITE:\n",
    "    {page_data}\n",
    "    ### INSTRUCTION:\n",
    "    The scraped text is from the career's page of a website. Your job is to extract the job postings and return them in JSON format containing the following keys: 'role', 'experience', 'skills' and 'description'.\n",
    "    Only return the valid JSON.\n",
    "    ### VALID JSON (NO PREMBLE):\n",
    "    '''\n",
    ")"
   ]
  },
  {
   "cell_type": "code",
   "execution_count": 46,
   "metadata": {},
   "outputs": [
    {
     "name": "stdout",
     "output_type": "stream",
     "text": [
      "```json\n",
      "{\n",
      "  \"role\": \"AI/ML-Senior\",\n",
      "  \"experience\": \"4+ years of working experience in Large Scale AI/ML models and data science\",\n",
      "  \"skills\": [\n",
      "    \"Deep understanding of statistics, AI/ML algorithms, and predictive modeling\",\n",
      "    \"Proficiency in AI/ML programming languages like Python, R, SQL\",\n",
      "    \"Proficiency with a deep learning framework such as TensorFlow, PyTorch or Keras\",\n",
      "    \"Expertise in machine learning algorithms and data mining techniques (like SVM, Decision Trees, and Deep Learning Algorithms)\",\n",
      "    \"Strong programming skills in Python including libraries for machine learning such as Scikit-learn, Pandas, NumPy, etc\",\n",
      "    \"Utilize tools such as Docker, Kubernetes, and Git to build and manage AI pipelines\",\n",
      "    \"Automate tasks through Python scripting, databases, and other advanced technologies like databricks, synapse, ML, AI, ADF etc\",\n",
      "    \"Good understanding of Git, JIRA, Change / Release management, build/deploy, CI/CD Azure Devops & Share Point\",\n",
      "    \"Strong understanding of Large Enterprise Applications like SAP, Oracle ERP & Microsoft Dynamics etc\"\n",
      "  ],\n",
      "  \"description\": \"You will help our clients navigate the complex world of modern data science and analytics. We'll look to you to provide advice to our clients on how best to design, implement, stabilise, and optimise internal controls utilising cutting edge and scalable AI & Big Data technologies.\"\n",
      "}\n",
      "```\n"
     ]
    }
   ],
   "source": [
    "chain_extract= prompt_extract | llm\n",
    "res = chain_extract.invoke(input={'page_data':page_data})\n",
    "print(res.content)"
   ]
  },
  {
   "cell_type": "code",
   "execution_count": 47,
   "metadata": {},
   "outputs": [
    {
     "data": {
      "text/plain": [
       "str"
      ]
     },
     "execution_count": 47,
     "metadata": {},
     "output_type": "execute_result"
    }
   ],
   "source": [
    "type(res.content)"
   ]
  },
  {
   "cell_type": "code",
   "execution_count": 48,
   "metadata": {},
   "outputs": [
    {
     "data": {
      "text/plain": [
       "{'role': 'AI/ML-Senior',\n",
       " 'experience': '4+ years of working experience in Large Scale AI/ML models and data science',\n",
       " 'skills': ['Deep understanding of statistics, AI/ML algorithms, and predictive modeling',\n",
       "  'Proficiency in AI/ML programming languages like Python, R, SQL',\n",
       "  'Proficiency with a deep learning framework such as TensorFlow, PyTorch or Keras',\n",
       "  'Expertise in machine learning algorithms and data mining techniques (like SVM, Decision Trees, and Deep Learning Algorithms)',\n",
       "  'Strong programming skills in Python including libraries for machine learning such as Scikit-learn, Pandas, NumPy, etc',\n",
       "  'Utilize tools such as Docker, Kubernetes, and Git to build and manage AI pipelines',\n",
       "  'Automate tasks through Python scripting, databases, and other advanced technologies like databricks, synapse, ML, AI, ADF etc',\n",
       "  'Good understanding of Git, JIRA, Change / Release management, build/deploy, CI/CD Azure Devops & Share Point',\n",
       "  'Strong understanding of Large Enterprise Applications like SAP, Oracle ERP & Microsoft Dynamics etc'],\n",
       " 'description': \"You will help our clients navigate the complex world of modern data science and analytics. We'll look to you to provide advice to our clients on how best to design, implement, stabilise, and optimise internal controls utilising cutting edge and scalable AI & Big Data technologies.\"}"
      ]
     },
     "execution_count": 48,
     "metadata": {},
     "output_type": "execute_result"
    }
   ],
   "source": [
    "from langchain_core.output_parsers import JsonOutputParser\n",
    "\n",
    "json_parser = JsonOutputParser()\n",
    "json_res=json_parser.parse(res.content)\n",
    "json_res"
   ]
  },
  {
   "cell_type": "code",
   "execution_count": 49,
   "metadata": {},
   "outputs": [
    {
     "data": {
      "text/plain": [
       "dict"
      ]
     },
     "execution_count": 49,
     "metadata": {},
     "output_type": "execute_result"
    }
   ],
   "source": [
    "type(json_res)"
   ]
  },
  {
   "cell_type": "code",
   "execution_count": 50,
   "metadata": {},
   "outputs": [
    {
     "data": {
      "text/html": [
       "<div>\n",
       "<style scoped>\n",
       "    .dataframe tbody tr th:only-of-type {\n",
       "        vertical-align: middle;\n",
       "    }\n",
       "\n",
       "    .dataframe tbody tr th {\n",
       "        vertical-align: top;\n",
       "    }\n",
       "\n",
       "    .dataframe thead th {\n",
       "        text-align: right;\n",
       "    }\n",
       "</style>\n",
       "<table border=\"1\" class=\"dataframe\">\n",
       "  <thead>\n",
       "    <tr style=\"text-align: right;\">\n",
       "      <th></th>\n",
       "      <th>Techstack</th>\n",
       "      <th>Links</th>\n",
       "    </tr>\n",
       "  </thead>\n",
       "  <tbody>\n",
       "    <tr>\n",
       "      <th>0</th>\n",
       "      <td>React, Node.js, MongoDB</td>\n",
       "      <td>https://example.com/react-portfolio</td>\n",
       "    </tr>\n",
       "    <tr>\n",
       "      <th>1</th>\n",
       "      <td>Angular,.NET, SQL Server</td>\n",
       "      <td>https://example.com/angular-portfolio</td>\n",
       "    </tr>\n",
       "    <tr>\n",
       "      <th>2</th>\n",
       "      <td>Vue.js, Ruby on Rails, PostgreSQL</td>\n",
       "      <td>https://example.com/vue-portfolio</td>\n",
       "    </tr>\n",
       "    <tr>\n",
       "      <th>3</th>\n",
       "      <td>Python, Django, MySQL</td>\n",
       "      <td>https://example.com/python-portfolio</td>\n",
       "    </tr>\n",
       "    <tr>\n",
       "      <th>4</th>\n",
       "      <td>Java, Spring Boot, Oracle</td>\n",
       "      <td>https://example.com/java-portfolio</td>\n",
       "    </tr>\n",
       "    <tr>\n",
       "      <th>...</th>\n",
       "      <td>...</td>\n",
       "      <td>...</td>\n",
       "    </tr>\n",
       "    <tr>\n",
       "      <th>75</th>\n",
       "      <td>Ruby, Spring Boot, SQLite, Vercel</td>\n",
       "      <td>https://example.com/portfolio-46</td>\n",
       "    </tr>\n",
       "    <tr>\n",
       "      <th>76</th>\n",
       "      <td>Python, Flask, Oracle, Vercel</td>\n",
       "      <td>https://example.com/portfolio-47</td>\n",
       "    </tr>\n",
       "    <tr>\n",
       "      <th>77</th>\n",
       "      <td>Go, React, MariaDB, GCP</td>\n",
       "      <td>https://example.com/portfolio-48</td>\n",
       "    </tr>\n",
       "    <tr>\n",
       "      <th>78</th>\n",
       "      <td>C++, Flask, Redis, AWS</td>\n",
       "      <td>https://example.com/portfolio-49</td>\n",
       "    </tr>\n",
       "    <tr>\n",
       "      <th>79</th>\n",
       "      <td>Kotlin, React, Redis, GCP</td>\n",
       "      <td>https://example.com/portfolio-50</td>\n",
       "    </tr>\n",
       "  </tbody>\n",
       "</table>\n",
       "<p>80 rows × 2 columns</p>\n",
       "</div>"
      ],
      "text/plain": [
       "                            Techstack                                  Links\n",
       "0             React, Node.js, MongoDB    https://example.com/react-portfolio\n",
       "1            Angular,.NET, SQL Server  https://example.com/angular-portfolio\n",
       "2   Vue.js, Ruby on Rails, PostgreSQL      https://example.com/vue-portfolio\n",
       "3               Python, Django, MySQL   https://example.com/python-portfolio\n",
       "4           Java, Spring Boot, Oracle     https://example.com/java-portfolio\n",
       "..                                ...                                    ...\n",
       "75  Ruby, Spring Boot, SQLite, Vercel       https://example.com/portfolio-46\n",
       "76      Python, Flask, Oracle, Vercel       https://example.com/portfolio-47\n",
       "77            Go, React, MariaDB, GCP       https://example.com/portfolio-48\n",
       "78             C++, Flask, Redis, AWS       https://example.com/portfolio-49\n",
       "79          Kotlin, React, Redis, GCP       https://example.com/portfolio-50\n",
       "\n",
       "[80 rows x 2 columns]"
      ]
     },
     "execution_count": 50,
     "metadata": {},
     "output_type": "execute_result"
    }
   ],
   "source": [
    "import pandas as pd\n",
    "df=pd.read_csv(\"my_portfolio.csv\")\n",
    "df"
   ]
  },
  {
   "cell_type": "code",
   "execution_count": 51,
   "metadata": {},
   "outputs": [],
   "source": [
    "import chromadb\n",
    "import uuid\n",
    "\n",
    "client=chromadb.PersistentClient('vectorstore')\n",
    "collection=client.get_or_create_collection(name=\"portfolio\")\n",
    "\n",
    "if not collection.count():\n",
    "    for _, row in df.iterrows():\n",
    "        collection.add(documents=[row[\"Techstack\"]],\n",
    "                       metadatas={\"links\":row[\"Links\"]},\n",
    "                       ids=[str(uuid.uuid4())])"
   ]
  },
  {
   "cell_type": "code",
   "execution_count": 55,
   "metadata": {},
   "outputs": [
    {
     "data": {
      "text/plain": [
       "['Deep understanding of statistics, AI/ML algorithms, and predictive modeling',\n",
       " 'Proficiency in AI/ML programming languages like Python, R, SQL',\n",
       " 'Proficiency with a deep learning framework such as TensorFlow, PyTorch or Keras',\n",
       " 'Expertise in machine learning algorithms and data mining techniques (like SVM, Decision Trees, and Deep Learning Algorithms)',\n",
       " 'Strong programming skills in Python including libraries for machine learning such as Scikit-learn, Pandas, NumPy, etc',\n",
       " 'Utilize tools such as Docker, Kubernetes, and Git to build and manage AI pipelines',\n",
       " 'Automate tasks through Python scripting, databases, and other advanced technologies like databricks, synapse, ML, AI, ADF etc',\n",
       " 'Good understanding of Git, JIRA, Change / Release management, build/deploy, CI/CD Azure Devops & Share Point',\n",
       " 'Strong understanding of Large Enterprise Applications like SAP, Oracle ERP & Microsoft Dynamics etc']"
      ]
     },
     "execution_count": 55,
     "metadata": {},
     "output_type": "execute_result"
    }
   ],
   "source": [
    "job = json_res\n",
    "job['skills']\n"
   ]
  },
  {
   "cell_type": "code",
   "execution_count": 56,
   "metadata": {},
   "outputs": [
    {
     "data": {
      "text/plain": [
       "[['Machine Learning, Python, TensorFlow', 'iOS, Swift, Core Data'],\n",
       " ['Machine Learning, Python, TensorFlow', 'Python, Flask, Oracle, Vercel'],\n",
       " ['Machine Learning, Python, TensorFlow', 'iOS, Swift, ARKit'],\n",
       " ['Machine Learning, Python, TensorFlow', 'Java, Laravel, Redis, IBM Cloud'],\n",
       " ['Machine Learning, Python, TensorFlow', 'Python, Flask, Oracle, Vercel'],\n",
       " ['DevOps, Jenkins, Docker', 'C++, Angular, Firebase, IBM Cloud'],\n",
       " ['Machine Learning, Python, TensorFlow', 'Python, Django, MySQL'],\n",
       " ['DevOps, Jenkins, Docker', 'PHP, Angular, MariaDB, Azure'],\n",
       " ['PHP, Rails, Oracle, IBM Cloud', 'Ruby, Django, Redis, IBM Cloud']]"
      ]
     },
     "execution_count": 56,
     "metadata": {},
     "output_type": "execute_result"
    }
   ],
   "source": [
    "links = collection.query(query_texts=job['skills'], n_results=2).get('documents',[])\n",
    "links"
   ]
  },
  {
   "cell_type": "code",
   "execution_count": 82,
   "metadata": {},
   "outputs": [],
   "source": [
    "prompt_email = PromptTemplate.from_template(\n",
    "    \"\"\"\n",
    "    ### JOB DESCRIPTION:\n",
    "    {job_description}\n",
    "    \n",
    "    ### INSTRUCTION:\n",
    "    You are Soham, a recent graduate from IIITN (an Institute of National Importance renowned for producing top-tier professionals in technology and engineering) with a degree in Electronics and Communication Engineering. \n",
    "    You have a strong foundation in software engineering, artificial intelligence, and data science, gained through academic coursework and hands-on experience in projects, internships, and hackathons. These experiences have honed your problem-solving skills and prepared you to contribute meaningfully to any organization.\n",
    "    \n",
    "    Write a professional and concise cold email to the HR manager that is visually easy to read, engaging, and tailored to the job description provided above. Ensure the email includes the following elements:\n",
    "    - **Subject Line**: A straightforward subject line such as “Application for [Job Title] Role”.\n",
    "    - **Opening Statement**: Start with a polite and enthusiastic introduction expressing interest in the role.\n",
    "    - **Key Skills and Achievements**: Briefly highlight the most relevant skills, accomplishments, and experiences that align with the job requirements.\n",
    "    - **Portfolio**: Include the most relevant ones from the following links to showcase your portfolio: {link_list}.\n",
    "    - **Alignment with the Company**: Explain how your background and skills align with the company’s goals and how you can drive its growth.\n",
    "    - **Call to Action**: End with a clear and professional call to action (e.g., requesting an opportunity to discuss further or schedule an interview).\n",
    "    - **Closing**: Use a polite and professional closing line with your full name.\n",
    "    \n",
    "    The email should:\n",
    "    - Be formatted for easy skimming with short paragraphs or bullet points where appropriate.\n",
    "    - Avoid unnecessary preambles or irrelevant details.\n",
    "    - Maintain a professional tone while conveying enthusiasm and motivation.\n",
    "\n",
    "    ### EMAIL:\n",
    "    \"\"\"\n",
    ")\n"
   ]
  },
  {
   "cell_type": "code",
   "execution_count": 83,
   "metadata": {},
   "outputs": [
    {
     "name": "stdout",
     "output_type": "stream",
     "text": [
      "Subject: Application for AI/ML-Senior Role\n",
      "\n",
      "Dear Hiring Manager,\n",
      "\n",
      "I am writing to express my enthusiastic interest in the AI/ML-Senior position at your esteemed organization. As a recent graduate from IIITN with a degree in Electronics and Communication Engineering, I am confident that my strong foundation in software engineering, artificial intelligence, and data science makes me an ideal candidate for this role.\n",
      "\n",
      "**Key Skills and Achievements:**\n",
      "\n",
      "* Proficient in AI/ML programming languages like Python, with expertise in deep learning frameworks such as TensorFlow and PyTorch\n",
      "* Strong understanding of machine learning algorithms and data mining techniques, including SVM, Decision Trees, and Deep Learning Algorithms\n",
      "* Experienced in utilizing tools such as Docker, Kubernetes, and Git to build and manage AI pipelines\n",
      "* Skilled in automating tasks through Python scripting, databases, and other advanced technologies like Databricks and Azure DevOps\n",
      "* Familiarity with Large Enterprise Applications like SAP, Oracle ERP, and Microsoft Dynamics\n",
      "\n",
      "**Portfolio:**\n",
      "\n",
      "I would like to highlight the following projects from my portfolio that demonstrate my skills and expertise:\n",
      "\n",
      "* **Machine Learning, Python, TensorFlow**: Developed a predictive model using TensorFlow and Python to forecast sales trends for a retail company, resulting in a 25% increase in accuracy.\n",
      "* **DevOps, Jenkins, Docker**: Designed and implemented a CI/CD pipeline using Jenkins and Docker to automate the deployment of a web application, reducing deployment time by 50%.\n",
      "* **Machine Learning, Python, TensorFlow**: Built a recommender system using TensorFlow and Python to suggest products to customers based on their browsing history, resulting in a 15% increase in sales.\n",
      "\n",
      "**Alignment with the Company:**\n",
      "\n",
      "I am particularly drawn to this role because of the company's focus on utilizing cutting-edge AI and Big Data technologies to drive business growth. My background in software engineering, artificial intelligence, and data science aligns perfectly with the company's goals, and I am excited about the opportunity to contribute to the development of innovative solutions.\n",
      "\n",
      "**Call to Action:**\n",
      "\n",
      "I would welcome the opportunity to discuss my application and how my skills and experience align with the company's needs. Please do not hesitate to contact me to schedule an interview.\n",
      "\n",
      "Thank you for considering my application.\n",
      "\n",
      "Best regards,\n",
      "\n",
      "Soham\n"
     ]
    }
   ],
   "source": [
    "chain_email = prompt_email | llm\n",
    "res = chain_email.invoke({\"job_description\": str(job), \"link_list\":links})\n",
    "print(res.content)"
   ]
  },
  {
   "cell_type": "code",
   "execution_count": null,
   "metadata": {},
   "outputs": [],
   "source": []
  }
 ],
 "metadata": {
  "kernelspec": {
   "display_name": "Python 3",
   "language": "python",
   "name": "python3"
  },
  "language_info": {
   "codemirror_mode": {
    "name": "ipython",
    "version": 3
   },
   "file_extension": ".py",
   "mimetype": "text/x-python",
   "name": "python",
   "nbconvert_exporter": "python",
   "pygments_lexer": "ipython3",
   "version": "3.11.1"
  }
 },
 "nbformat": 4,
 "nbformat_minor": 2
}
